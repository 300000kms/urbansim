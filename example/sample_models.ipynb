{
 "metadata": {
  "name": ""
 },
 "nbformat": 3,
 "nbformat_minor": 0,
 "worksheets": [
  {
   "cells": [
    {
     "cell_type": "heading",
     "level": 1,
     "metadata": {},
     "source": [
      "Python Notebook for Running UrbanSim Models"
     ]
    },
    {
     "cell_type": "heading",
     "level": 3,
     "metadata": {},
     "source": [
      "Initialize"
     ]
    },
    {
     "cell_type": "code",
     "collapsed": false,
     "input": [
      "execfile(\"/Users/ffoti/urbansim/scripts/init.py\")\n",
      "import dataset\n",
      "dset = dataset.MRCOGDataset(os.path.join(misc.data_dir(),'mrcog2.h5'))\n",
      "db = couchdb.Server(\"http://paris.urbansim.org:5984/\")['mrcog']"
     ],
     "language": "python",
     "metadata": {},
     "outputs": [],
     "prompt_number": 23
    },
    {
     "cell_type": "heading",
     "level": 3,
     "metadata": {},
     "source": [
      "Parcel Variables"
     ]
    },
    {
     "cell_type": "code",
     "collapsed": false,
     "input": [
      "misc.writenumpy(dset.parcels.parcel_acres,\"parcel_acres\")"
     ],
     "language": "python",
     "metadata": {},
     "outputs": [
      {
       "output_type": "stream",
       "stream": "stdout",
       "text": [
        "Fetching parcels\n",
        "Fetching modify_table"
       ]
      },
      {
       "output_type": "stream",
       "stream": "stdout",
       "text": [
        "\n"
       ]
      }
     ],
     "prompt_number": 24
    },
    {
     "cell_type": "code",
     "collapsed": false,
     "input": [
      "misc.writenumpy(dset.parcels.land_value/dset.parcels.parcel_acres,\"value_per_acres\")"
     ],
     "language": "python",
     "metadata": {},
     "outputs": [],
     "prompt_number": 25
    },
    {
     "cell_type": "code",
     "collapsed": false,
     "input": [
      "misc.writenumpy(dset.buildings.groupby('parcel_id').unit_price_residential.mean(),\"unit_price\")"
     ],
     "language": "python",
     "metadata": {},
     "outputs": [
      {
       "output_type": "stream",
       "stream": "stdout",
       "text": [
        "Fetching buildings\n",
        "Fetching jobs"
       ]
      },
      {
       "output_type": "stream",
       "stream": "stdout",
       "text": [
        "\n",
        "Fetching modify_table\n",
        "Fetching modify_table"
       ]
      },
      {
       "output_type": "stream",
       "stream": "stdout",
       "text": [
        "\n"
       ]
      }
     ],
     "prompt_number": 26
    },
    {
     "cell_type": "heading",
     "level": 3,
     "metadata": {},
     "source": [
      "Zone Variables"
     ]
    },
    {
     "cell_type": "code",
     "collapsed": false,
     "input": [
      "for name in ['buildings','households','jobs','zones']: run_model(db[name],dset,show=0) # run a few minimodels"
     ],
     "language": "python",
     "metadata": {},
     "outputs": [
      {
       "output_type": "stream",
       "stream": "stdout",
       "text": [
        "Specifying model in 0.093550\n",
        "Finished executing in 0.093603 seconds\n",
        "Fetching households\n",
        "Fetching modify_table"
       ]
      },
      {
       "output_type": "stream",
       "stream": "stdout",
       "text": [
        "\n",
        "Specifying model in 0.100553"
       ]
      },
      {
       "output_type": "stream",
       "stream": "stdout",
       "text": [
        "\n",
        "Finished executing in 0.103974 seconds\n",
        "Specifying model in 0.059235"
       ]
      },
      {
       "output_type": "stream",
       "stream": "stdout",
       "text": [
        "\n",
        "Finished executing in 0.059698 seconds\n",
        "Fetching zones\n",
        "Fetching modify_table\n",
        "Fetching travel_data\n",
        "Fetching modify_table"
       ]
      },
      {
       "output_type": "stream",
       "stream": "stdout",
       "text": [
        "\n",
        "Specifying model in 0.591949"
       ]
      },
      {
       "output_type": "stream",
       "stream": "stdout",
       "text": [
        "\n",
        "Finished executing in 0.592402 seconds\n"
       ]
      }
     ],
     "prompt_number": 27
    },
    {
     "cell_type": "code",
     "collapsed": false,
     "input": [
      "misc.writenumpy(pd.Series(dset.zones.average_income.ix[dset.parcels.zone_id].values,dset.parcels.index),\"zonal_income\")"
     ],
     "language": "python",
     "metadata": {},
     "outputs": [],
     "prompt_number": 6
    },
    {
     "cell_type": "code",
     "collapsed": false,
     "input": [
      "misc.writenumpy(pd.Series(dset.zones.population.ix[dset.parcels.zone_id].values,dset.parcels.index),\"zonal_population\")"
     ],
     "language": "python",
     "metadata": {},
     "outputs": [],
     "prompt_number": 7
    },
    {
     "cell_type": "heading",
     "level": 3,
     "metadata": {},
     "source": [
      "Estimate and Simulate Models"
     ]
    },
    {
     "cell_type": "heading",
     "level": 4,
     "metadata": {},
     "source": [
      "Models can be Python for easy interactivity"
     ]
    },
    {
     "cell_type": "code",
     "collapsed": false,
     "input": [
      "hedonic = {\n",
      "  \"table\": \"dset.buildings\",\n",
      "  \"merge\": {\n",
      "    \"table\":\"dset.fetch('zones')\",\n",
      "    \"left_on\":\"zone_id\",\n",
      "    \"right_index\":True\n",
      "  },\n",
      "  \"model\": \"hedonicmodel\",\n",
      "  \"filters\":         [\"_tbl_.building_type_id<3\"],\n",
      "  \"estimate_filters\": [\"_tbl_.residential_units>0\",\n",
      "                      \"_tbl_.improvement_value>40000\"],\n",
      "  \"segment\": [\"building_type_id\"],\n",
      "  \"dep_var\": \"unit_price_residential\",\n",
      "  \"dep_var_transform\": \"np.log\",\n",
      "  \"var_lib_file\": \"var_lib.json\",\n",
      "  \"ind_vars\": [\n",
      "    \"historic\",\n",
      "    \"new\",\n",
      "    \"year_built\",\n",
      "    \"ln_parcel_acres\",\n",
      "    \"ln_sqft_per_unit\",\n",
      "    \"ln_average_income\",\n",
      "    \"ln_population_in_range\",\n",
      "    \"ln_time_to_downtown\"\n",
      "  ],\n",
      "  \"submodel_vars\": {\"2\": [\n",
      "    \"historic\",\n",
      "    \"new\",\n",
      "    \"ln_average_income\"\n",
      "  ]},\n",
      "  \"add_constant\": True,\n",
      "  \"output_names\": [\n",
      "    \"mrcog-coeff-reshedonic-sales.csv\",\n",
      "    \"MRCOG RESIDENTIAL HEDONIC MODEL (SALES)\",\n",
      "    \"residential_sales_price_%s\",\n",
      "    \"residential_sales_price\"\n",
      "  ],\n",
      "  \"output_transform\": \"np.exp\"\n",
      "}\n",
      "run_model(hedonic,dset,show=0,simulate=1)"
     ],
     "language": "python",
     "metadata": {},
     "outputs": [
      {
       "output_type": "stream",
       "stream": "stdout",
       "text": [
        "Done merging land use and choosers in 0.089430\n",
        "Finished specifying in 0.155514 seconds\n",
        "Specifying model in 0.147388"
       ]
      },
      {
       "output_type": "stream",
       "stream": "stdout",
       "text": [
        "\n",
        "Estimating hedonic for 1 with 233067 observations\n",
        "Specifying model in 0.002194"
       ]
      },
      {
       "output_type": "stream",
       "stream": "stdout",
       "text": [
        "\n",
        "Estimating hedonic for 2 with 5107 observations\n",
        "Finished executing in 0.440415 seconds\n",
        "Done merging land use and choosers in 0.121411"
       ]
      },
      {
       "output_type": "stream",
       "stream": "stdout",
       "text": [
        "\n",
        "Finished specifying in 0.153311 seconds\n",
        "Specifying model in 0.150688"
       ]
      },
      {
       "output_type": "stream",
       "stream": "stdout",
       "text": [
        "\n",
        "Generating rents on 255639 buildings\n",
        "Specifying model in 0.002624\n",
        "Generating rents on 5397 buildings\n",
        "Finished executing in 0.280824 seconds"
       ]
      },
      {
       "output_type": "stream",
       "stream": "stdout",
       "text": [
        "\n",
        "SIMULATED tmp_model model in 0.472 seconds\n"
       ]
      }
     ],
     "prompt_number": 28
    },
    {
     "cell_type": "heading",
     "level": 4,
     "metadata": {},
     "source": [
      "And models can come from the database (the format is exactly the same)"
     ]
    },
    {
     "cell_type": "code",
     "collapsed": false,
     "input": [
      "for name in ['zones2','household location unconstrained']:  # estimate\n",
      "    run_model(db[name],dset,show=0)\n",
      "for name in ['household location unconstrained']: # simulate\n",
      "    run_model(db[name],dset,estimate=0,simulate=1,show=0)"
     ],
     "language": "python",
     "metadata": {},
     "outputs": [
      {
       "output_type": "stream",
       "stream": "stdout",
       "text": [
        "Specifying model in 0.014367\n",
        "Finished executing in 0.014419 seconds\n",
        "Done merging land use and choosers in 0.105870"
       ]
      },
      {
       "output_type": "stream",
       "stream": "stdout",
       "text": [
        "\n",
        "Estimating parameters for segment = (1, 0.0), size = 1298"
       ]
      },
      {
       "output_type": "stream",
       "stream": "stdout",
       "text": [
        "\n",
        "Specifying model in 0.020438\n",
        "Null Log-liklihood: -5977.510901"
       ]
      },
      {
       "output_type": "stream",
       "stream": "stdout",
       "text": [
        "\n",
        "Log-liklihood at convergence: -4603.271182\n",
        "Log-liklihood ratio: 0.229902\n",
        "Estimating parameters for segment = (1, 1.0), size = 1238"
       ]
      },
      {
       "output_type": "stream",
       "stream": "stdout",
       "text": [
        "\n",
        "Specifying model in 0.018957\n",
        "Null Log-liklihood: -5701.200690"
       ]
      },
      {
       "output_type": "stream",
       "stream": "stdout",
       "text": [
        "\n",
        "Log-liklihood at convergence: -4273.654579\n",
        "Log-liklihood ratio: 0.250394\n",
        "Estimating parameters for segment = (1, 2.0), size = 1246"
       ]
      },
      {
       "output_type": "stream",
       "stream": "stdout",
       "text": [
        "\n",
        "Specifying model in 0.016131\n",
        "Null Log-liklihood: -5738.042052"
       ]
      },
      {
       "output_type": "stream",
       "stream": "stdout",
       "text": [
        "\n",
        "Log-liklihood at convergence: -4456.997018\n",
        "Log-liklihood ratio: 0.223255\n",
        "Estimating parameters for segment = (1, 3.0), size = 1224"
       ]
      },
      {
       "output_type": "stream",
       "stream": "stdout",
       "text": [
        "\n",
        "Specifying model in 0.019360\n",
        "Null Log-liklihood: -5636.728308"
       ]
      },
      {
       "output_type": "stream",
       "stream": "stdout",
       "text": [
        "\n",
        "Log-liklihood at convergence: -4239.900187\n",
        "Log-liklihood ratio: 0.247808\n",
        "Estimating parameters for segment = (2, 0.0), size = 1271"
       ]
      },
      {
       "output_type": "stream",
       "stream": "stdout",
       "text": [
        "\n",
        "Specifying model in 0.018103\n",
        "Null Log-liklihood: -5853.171306"
       ]
      },
      {
       "output_type": "stream",
       "stream": "stdout",
       "text": [
        "\n",
        "Log-liklihood at convergence: -4481.152443\n",
        "Log-liklihood ratio: 0.234406\n",
        "Estimating parameters for segment = (2, 1.0), size = 1226"
       ]
      },
      {
       "output_type": "stream",
       "stream": "stdout",
       "text": [
        "\n",
        "Specifying model in 0.021194\n",
        "Null Log-liklihood: -5645.938648"
       ]
      },
      {
       "output_type": "stream",
       "stream": "stdout",
       "text": [
        "\n",
        "Log-liklihood at convergence: -4435.701656\n",
        "Log-liklihood ratio: 0.214355\n",
        "Estimating parameters for segment = (2, 2.0), size = 1231"
       ]
      },
      {
       "output_type": "stream",
       "stream": "stdout",
       "text": [
        "\n",
        "Specifying model in 0.015477\n",
        "Null Log-liklihood: -5668.964499"
       ]
      },
      {
       "output_type": "stream",
       "stream": "stdout",
       "text": [
        "\n",
        "Log-liklihood at convergence: -4367.088327\n",
        "Log-liklihood ratio: 0.229650\n",
        "Estimating parameters for segment = (2, 3.0), size = 1266"
       ]
      },
      {
       "output_type": "stream",
       "stream": "stdout",
       "text": [
        "\n",
        "Specifying model in 0.019133\n",
        "Null Log-liklihood: -5830.145455"
       ]
      },
      {
       "output_type": "stream",
       "stream": "stdout",
       "text": [
        "\n",
        "Log-liklihood at convergence: -4323.113749\n",
        "Log-liklihood ratio: 0.258490\n",
        "Finished executing in 3.071925 seconds\n",
        "Fetching annual_household_relocation_rates"
       ]
      },
      {
       "output_type": "stream",
       "stream": "stdout",
       "text": [
        "\n",
        "Fetching modify_table\n",
        "Histogram of relocation rates:"
       ]
      },
      {
       "output_type": "stream",
       "stream": "stdout",
       "text": [
        "\n",
        "0.01    82406\n",
        "0.01    44029\n",
        "0.02    42296\n",
        "0.02    34745\n",
        "0.03    33090\n",
        "0.02    31102\n",
        "0.00    23626\n",
        "0.01    22609\n",
        "0.00    18973\n",
        "0.00    18441\n",
        "dtype: int64\n",
        "5190 agents are moving\n",
        "Total new agents and movers = 26231\n",
        "Done merging land use and choosers in 0.146164"
       ]
      },
      {
       "output_type": "stream",
       "stream": "stdout",
       "text": [
        "\n",
        "Finished specifying model in 0.542354 seconds\n",
        "Specifying model in 0.029410"
       ]
      },
      {
       "output_type": "stream",
       "stream": "stdout",
       "text": [
        "\n",
        "Specifying model in 0.036598"
       ]
      },
      {
       "output_type": "stream",
       "stream": "stdout",
       "text": [
        "\n",
        "Specifying model in 0.037768"
       ]
      },
      {
       "output_type": "stream",
       "stream": "stdout",
       "text": [
        "\n",
        "Specifying model in 0.030793"
       ]
      },
      {
       "output_type": "stream",
       "stream": "stdout",
       "text": [
        "\n",
        "Specifying model in 0.030887"
       ]
      },
      {
       "output_type": "stream",
       "stream": "stdout",
       "text": [
        "\n",
        "Specifying model in 0.030808"
       ]
      },
      {
       "output_type": "stream",
       "stream": "stdout",
       "text": [
        "\n",
        "Specifying model in 0.037631"
       ]
      },
      {
       "output_type": "stream",
       "stream": "stdout",
       "text": [
        "\n",
        "Specifying model in 0.037292"
       ]
      },
      {
       "output_type": "stream",
       "stream": "stdout",
       "text": [
        "\n",
        "Finished creating pdf in 1.207957 seconds\n",
        "       segment(1, 0.0)  segment(1, 1.0)  segment(1, 2.0)  segment(1, 3.0)  segment(2, 0.0)  segment(2, 1.0)  segment(2, 2.0)  segment(2, 3.0)\n",
        "count         2.62e+05         2.62e+05         2.62e+05         2.62e+05         2.62e+05         2.62e+05         2.62e+05         2.62e+05\n",
        "mean          3.82e-06         3.82e-06         3.82e-06         3.82e-06         3.82e-06         3.82e-06         3.82e-06         3.82e-06\n",
        "std           1.02e-05         1.25e-05         7.74e-06         3.79e-06         8.50e-06         1.17e-05         6.29e-06         4.03e-06\n",
        "min           2.61e-07         5.76e-08         2.33e-07         1.39e-07         2.96e-07         2.84e-08         2.51e-07         1.92e-07\n",
        "25%           2.74e-06         2.36e-06         3.26e-06         2.43e-06         2.63e-06         2.27e-06         3.26e-06         2.46e-06\n",
        "50%           3.42e-06         3.23e-06         3.65e-06         3.55e-06         3.39e-06         3.21e-06         3.65e-06         3.54e-06\n",
        "75%           4.31e-06         4.36e-06         4.10e-06         4.94e-06         4.38e-06         4.33e-06         4.12e-06         4.90e-06\n",
        "max           1.40e-03         1.42e-03         9.13e-04         4.73e-04         1.27e-03         1.41e-03         7.65e-04         5.02e-04"
       ]
      },
      {
       "output_type": "stream",
       "stream": "stdout",
       "text": [
        "\n",
        "Finished assigning agents in 0.000005 seconds\n",
        "SIMULATED household location unconstrained model in 2.009 seconds\n"
       ]
      }
     ],
     "prompt_number": 19
    },
    {
     "cell_type": "heading",
     "level": 3,
     "metadata": {},
     "source": [
      "Modeled Variables"
     ]
    },
    {
     "cell_type": "code",
     "collapsed": false,
     "input": [
      "misc.writenumpy(dset.buildings.join(dset.load_attr('residential_sales_price',2010)).groupby('parcel_id')[2010].sum(),\"residential_sales_price\")"
     ],
     "language": "python",
     "metadata": {},
     "outputs": [],
     "prompt_number": 20
    },
    {
     "cell_type": "code",
     "collapsed": false,
     "input": [
      "misc.writenumpy(dset.buildings[dset.buildings.building_type_id == 2].join(dset.load_attr('residential_sales_price',2010)).groupby('parcel_id')[2010].sum(),\"mf_sales_price\")"
     ],
     "language": "python",
     "metadata": {},
     "outputs": [],
     "prompt_number": 21
    },
    {
     "cell_type": "code",
     "collapsed": false,
     "input": [
      "df = pd.DataFrame(index=)\n",
      "for i in range(4): \n",
      "    misc.writenumpy(dset.buildings.join(dset.household_location_pdf).groupby('parcel_id')['segment(1, %d.0)'%i].mean(),'income%d'%i)"
     ],
     "language": "python",
     "metadata": {},
     "outputs": [],
     "prompt_number": 22
    },
    {
     "cell_type": "code",
     "collapsed": false,
     "input": [],
     "language": "python",
     "metadata": {},
     "outputs": []
    }
   ],
   "metadata": {}
  }
 ]
}