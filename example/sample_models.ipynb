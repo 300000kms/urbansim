{
 "metadata": {
  "name": "sample_models"
 },
 "nbformat": 3,
 "nbformat_minor": 0,
 "worksheets": [
  {
   "cells": [
    {
     "cell_type": "heading",
     "level": 1,
     "metadata": {},
     "source": [
      "Python Notebook for Running UrbanSim Models"
     ]
    },
    {
     "cell_type": "heading",
     "level": 3,
     "metadata": {},
     "source": [
      "Initialize"
     ]
    },
    {
     "cell_type": "code",
     "collapsed": false,
     "input": [
      "execfile(\"/Users/ffoti/urbansim/scripts/init.py\")\n",
      "import dataset\n",
      "dset = dataset.MRCOGDataset(os.path.join(misc.data_dir(),'mrcog2.h5'))\n",
      "db = couchdb.Server(\"http://paris.urbansim.org:5984/\")['mrcog']"
     ],
     "language": "python",
     "metadata": {},
     "outputs": []
    },
    {
     "cell_type": "heading",
     "level": 3,
     "metadata": {},
     "source": [
      "Parcel Variables"
     ]
    },
    {
     "cell_type": "code",
     "collapsed": false,
     "input": [
      "misc.writenumpy(dset.parcels.parcel_acres,\"parcel_acres\")"
     ],
     "language": "python",
     "metadata": {},
     "outputs": []
    },
    {
     "cell_type": "code",
     "collapsed": false,
     "input": [
      "misc.writenumpy(dset.parcels.land_value/dset.parcels.parcel_acres,\"value_per_acres\")"
     ],
     "language": "python",
     "metadata": {},
     "outputs": []
    },
    {
     "cell_type": "code",
     "collapsed": false,
     "input": [
      "misc.writenumpy(dset.buildings.groupby('parcel_id').unit_price_residential.mean(),\"unit_price\")"
     ],
     "language": "python",
     "metadata": {},
     "outputs": []
    },
    {
     "cell_type": "heading",
     "level": 3,
     "metadata": {},
     "source": [
      "Zone Variables"
     ]
    },
    {
     "cell_type": "code",
     "collapsed": false,
     "input": [
      "for name in ['buildings','households','jobs','zones']: run_model(db[name],dset,show=0) # run a few minimodels"
     ],
     "language": "python",
     "metadata": {},
     "outputs": []
    },
    {
     "cell_type": "code",
     "collapsed": false,
     "input": [
      "misc.writenumpy(pd.Series(dset.zones.average_income.ix[dset.parcels.zone_id].values,dset.parcels.index),\"zonal_income\")"
     ],
     "language": "python",
     "metadata": {},
     "outputs": []
    },
    {
     "cell_type": "code",
     "collapsed": false,
     "input": [
      "misc.writenumpy(pd.Series(dset.zones.population.ix[dset.parcels.zone_id].values,dset.parcels.index),\"zonal_population\")"
     ],
     "language": "python",
     "metadata": {},
     "outputs": []
    },
    {
     "cell_type": "heading",
     "level": 3,
     "metadata": {},
     "source": [
      "Estimate and Simulate Models"
     ]
    },
    {
     "cell_type": "heading",
     "level": 4,
     "metadata": {},
     "source": [
      "Models can be Python for easy interactivity"
     ]
    },
    {
     "cell_type": "code",
     "collapsed": false,
     "input": [
      "hedonic = {\n",
      "  \"table\": \"dset.buildings\",\n",
      "  \"merge\": {\n",
      "    \"table\":\"dset.fetch('zones')\",\n",
      "    \"left_on\":\"zone_id\",\n",
      "    \"right_index\":True\n",
      "  },\n",
      "  \"model\": \"hedonicmodel\",\n",
      "  \"filters\":         [\"_tbl_.building_type_id<3\"],\n",
      "  \"estimate_filters\": [\"_tbl_.residential_units>0\",\n",
      "                      \"_tbl_.improvement_value>40000\"],\n",
      "  \"segment\": [\"building_type_id\"],\n",
      "  \"dep_var\": \"unit_price_residential\",\n",
      "  \"dep_var_transform\": \"np.log\",\n",
      "  \"var_lib_file\": \"var_lib.json\",\n",
      "  \"ind_vars\": [\n",
      "    \"historic\",\n",
      "    \"new\",\n",
      "    \"year_built\",\n",
      "    \"ln_parcel_acres\",\n",
      "    \"ln_sqft_per_unit\",\n",
      "    \"ln_average_income\",\n",
      "    \"ln_population_in_range\",\n",
      "    \"ln_time_to_downtown\"\n",
      "  ],\n",
      "  \"submodel_vars\": {\"2\": [\n",
      "    \"historic\",\n",
      "    \"new\",\n",
      "    \"ln_average_income\"\n",
      "  ]},\n",
      "  \"add_constant\": True,\n",
      "  \"output_names\": [\n",
      "    \"mrcog-coeff-reshedonic-sales.csv\",\n",
      "    \"MRCOG RESIDENTIAL HEDONIC MODEL (SALES)\",\n",
      "    \"residential_sales_price_%s\",\n",
      "    \"residential_sales_price\"\n",
      "  ],\n",
      "  \"output_transform\": \"np.exp\"\n",
      "}\n",
      "run_model(hedonic,dset,show=0)"
     ],
     "language": "python",
     "metadata": {},
     "outputs": []
    },
    {
     "cell_type": "heading",
     "level": 4,
     "metadata": {},
     "source": [
      "And models can come from the database (the format is exactly the same)"
     ]
    },
    {
     "cell_type": "code",
     "collapsed": false,
     "input": [
      "for name in ['zones2','household location unconstrained']:  # estimate\n",
      "    run_model(db[name],dset,show=0)\n",
      "for name in ['household location unconstrained']: # simulate\n",
      "    run_model(db[name],dset,estimate=0,show=0)"
     ],
     "language": "python",
     "metadata": {},
     "outputs": []
    },
    {
     "cell_type": "heading",
     "level": 3,
     "metadata": {},
     "source": [
      "Modeled Variables"
     ]
    },
    {
     "cell_type": "code",
     "collapsed": false,
     "input": [
      "misc.writenumpy(dset.buildings.join(dset.load_attr('residential_sales_price',2010)).groupby('parcel_id')[2010].sum(),\"residential_sales_price\")"
     ],
     "language": "python",
     "metadata": {},
     "outputs": []
    },
    {
     "cell_type": "code",
     "collapsed": false,
     "input": [
      "misc.writenumpy(dset.buildings[dset.buildings.building_type_id == 2].join(dset.load_attr('residential_sales_price',2010)).groupby('parcel_id')[2010].sum(),\"mf_sales_price\")"
     ],
     "language": "python",
     "metadata": {},
     "outputs": []
    },
    {
     "cell_type": "code",
     "collapsed": false,
     "input": [
      "for i in range(4): misc.writenumpy(dset.buildings.join(dset.household_location_pdf).groupby('parcel_id')['segment(1, %d.0)'%i].mean(),'income%d'%i)"
     ],
     "language": "python",
     "metadata": {},
     "outputs": []
    },
    {
     "cell_type": "code",
     "collapsed": false,
     "input": [],
     "language": "python",
     "metadata": {},
     "outputs": []
    }
   ],
   "metadata": {}
  }
 ]
}