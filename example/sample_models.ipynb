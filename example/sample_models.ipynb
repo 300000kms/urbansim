{
 "metadata": {
  "name": "interactive"
 },
 "nbformat": 3,
 "nbformat_minor": 0,
 "worksheets": [
  {
   "cells": [
    {
     "cell_type": "heading",
     "level": 1,
     "metadata": {},
     "source": [
      "Python Notebook for Running UrbanSim Models"
     ]
    },
    {
     "cell_type": "heading",
     "level": 3,
     "metadata": {},
     "source": [
      "Initialize"
     ]
    },
    {
     "cell_type": "code",
     "collapsed": false,
     "input": [
      "execfile(\"/Users/ffoti/urbansim/scripts/init.py\")\n",
      "import dataset\n",
      "dset = dataset.MRCOGDataset(os.path.join(misc.data_dir(),'mrcog2.h5'))\n",
      "db = couchdb.Server(\"http://paris.urbansim.org:5984/\")['mrcog']"
     ],
     "language": "python",
     "metadata": {},
     "outputs": [],
     "prompt_number": 2
    },
    {
     "cell_type": "heading",
     "level": 3,
     "metadata": {},
     "source": [
      "Parcel Variables"
     ]
    },
    {
     "cell_type": "code",
     "collapsed": false,
     "input": [
      "misc.writenumpy(dset.parcels.parcel_acres,\"parcel_acres\")"
     ],
     "language": "python",
     "metadata": {},
     "outputs": []
    },
    {
     "cell_type": "code",
     "collapsed": false,
     "input": [
      "misc.writenumpy(dset.parcels.land_value/dset.parcels.parcel_acres,\"value_per_acres\")"
     ],
     "language": "python",
     "metadata": {},
     "outputs": [],
     "prompt_number": 8
    },
    {
     "cell_type": "code",
     "collapsed": false,
     "input": [
      "misc.writenumpy(dset.buildings.groupby('parcel_id').unit_price_residential.mean(),\"unit_price\")"
     ],
     "language": "python",
     "metadata": {},
     "outputs": [],
     "prompt_number": 7
    },
    {
     "cell_type": "heading",
     "level": 3,
     "metadata": {},
     "source": [
      "Zone Variables"
     ]
    },
    {
     "cell_type": "code",
     "collapsed": false,
     "input": [
      "for name in ['buildings','households','jobs','zones']: run_model(db[name],dset,show=0)"
     ],
     "language": "python",
     "metadata": {},
     "outputs": [
      {
       "output_type": "stream",
       "stream": "stdout",
       "text": [
        "Specifying model in 0.083598\n",
        "Finished executing in 0.083646 seconds\n",
        "Specifying model in 0.080808"
       ]
      },
      {
       "output_type": "stream",
       "stream": "stdout",
       "text": [
        "\n",
        "Finished executing in 0.085826 seconds\n",
        "Specifying model in 0.057390"
       ]
      },
      {
       "output_type": "stream",
       "stream": "stdout",
       "text": [
        "\n",
        "Finished executing in 0.059707 seconds\n",
        "Specifying model in 0.535964"
       ]
      },
      {
       "output_type": "stream",
       "stream": "stdout",
       "text": [
        "\n",
        "Finished executing in 0.536372 seconds\n"
       ]
      }
     ],
     "prompt_number": 12
    },
    {
     "cell_type": "code",
     "collapsed": false,
     "input": [
      "misc.writenumpy(pd.Series(dset.zones.average_income.ix[dset.parcels.zone_id].values,dset.parcels.index),\"zonal_income\")"
     ],
     "language": "python",
     "metadata": {},
     "outputs": [],
     "prompt_number": 13
    },
    {
     "cell_type": "code",
     "collapsed": false,
     "input": [
      "misc.writenumpy(pd.Series(dset.zones.population.ix[dset.parcels.zone_id].values,dset.parcels.index),\"zonal_population\")"
     ],
     "language": "python",
     "metadata": {},
     "outputs": [],
     "prompt_number": 14
    },
    {
     "cell_type": "heading",
     "level": 3,
     "metadata": {},
     "source": [
      "Estimate and Simulate Models"
     ]
    },
    {
     "cell_type": "code",
     "collapsed": false,
     "input": [
      "for name in ['residential hedonic','zones2','household location unconstrained']:  # estimate\n",
      "    run_model(db[name],dset,show=0)\n",
      "for name in ['household location unconstrained']: # simulate\n",
      "    run_model(db[name],dset,estimate=0,show=0)"
     ],
     "language": "python",
     "metadata": {},
     "outputs": [
      {
       "output_type": "stream",
       "stream": "stdout",
       "text": [
        "Done merging land use and choosers in 0.088737\n",
        "Finished specifying in 0.159137 seconds\n",
        "Specifying model in 0.053056"
       ]
      },
      {
       "output_type": "stream",
       "stream": "stdout",
       "text": [
        "\n",
        "Estimating hedonic for 1 with 233067 observations\n",
        "Specifying model in 0.002275"
       ]
      },
      {
       "output_type": "stream",
       "stream": "stdout",
       "text": [
        "\n",
        "Estimating hedonic for 2 with 5107 observations\n",
        "Finished executing in 0.178721 seconds\n",
        "Done merging land use and choosers in 0.095946"
       ]
      },
      {
       "output_type": "stream",
       "stream": "stdout",
       "text": [
        "\n",
        "Finished specifying in 0.117949 seconds\n",
        "Specifying model in 0.028940"
       ]
      },
      {
       "output_type": "stream",
       "stream": "stdout",
       "text": [
        "\n",
        "Generating rents on 255639 buildings\n",
        "Specifying model in 0.002739\n",
        "Generating rents on 5397 buildings\n",
        "Finished executing in 0.133050 seconds\n",
        "SIMULATED residential hedonic model in 0.268 seconds"
       ]
      },
      {
       "output_type": "stream",
       "stream": "stdout",
       "text": [
        "\n",
        "Specifying model in 0.022123"
       ]
      },
      {
       "output_type": "stream",
       "stream": "stdout",
       "text": [
        "\n",
        "Finished executing in 0.022512 seconds\n",
        "Done merging land use and choosers in 0.101679"
       ]
      },
      {
       "output_type": "stream",
       "stream": "stdout",
       "text": [
        "\n",
        "Estimating parameters for segment = (1, 0.0), size = 1258"
       ]
      },
      {
       "output_type": "stream",
       "stream": "stdout",
       "text": [
        "\n",
        "Specifying model in 0.022296\n",
        "Null Log-liklihood: -5793.304094"
       ]
      },
      {
       "output_type": "stream",
       "stream": "stdout",
       "text": [
        "\n",
        "Log-liklihood at convergence: -4443.085290\n",
        "Log-liklihood ratio: 0.233065\n",
        "Estimating parameters for segment = (1, 1.0), size = 1243"
       ]
      },
      {
       "output_type": "stream",
       "stream": "stdout",
       "text": [
        "\n",
        "Specifying model in 0.019797\n",
        "Null Log-liklihood: -5724.226541"
       ]
      },
      {
       "output_type": "stream",
       "stream": "stdout",
       "text": [
        "\n",
        "Log-liklihood at convergence: -4386.685087\n",
        "Log-liklihood ratio: 0.233663\n",
        "Estimating parameters for segment = (1, 2.0), size = 1282"
       ]
      },
      {
       "output_type": "stream",
       "stream": "stdout",
       "text": [
        "\n",
        "Specifying model in 0.026211\n",
        "Null Log-liklihood: -5903.828178"
       ]
      },
      {
       "output_type": "stream",
       "stream": "stdout",
       "text": [
        "\n",
        "Log-liklihood at convergence: -4510.568444\n",
        "Log-liklihood ratio: 0.235993\n",
        "Estimating parameters for segment = (1, 3.0), size = 1225"
       ]
      },
      {
       "output_type": "stream",
       "stream": "stdout",
       "text": [
        "\n",
        "Specifying model in 0.014902\n",
        "Null Log-liklihood: -5641.333478"
       ]
      },
      {
       "output_type": "stream",
       "stream": "stdout",
       "text": [
        "\n",
        "Log-liklihood at convergence: -4265.275994\n",
        "Log-liklihood ratio: 0.243924\n",
        "Estimating parameters for segment = (2, 0.0), size = 1246"
       ]
      },
      {
       "output_type": "stream",
       "stream": "stdout",
       "text": [
        "\n",
        "Specifying model in 0.015749\n",
        "Null Log-liklihood: -5738.042052"
       ]
      },
      {
       "output_type": "stream",
       "stream": "stdout",
       "text": [
        "\n",
        "Log-liklihood at convergence: -4439.851021\n",
        "Log-liklihood ratio: 0.226243\n",
        "Estimating parameters for segment = (2, 1.0), size = 1256"
       ]
      },
      {
       "output_type": "stream",
       "stream": "stdout",
       "text": [
        "\n",
        "Specifying model in 0.014110\n",
        "Null Log-liklihood: -5784.093754"
       ]
      },
      {
       "output_type": "stream",
       "stream": "stdout",
       "text": [
        "\n",
        "Log-liklihood at convergence: -4381.097213\n",
        "Log-liklihood ratio: 0.242561\n",
        "Estimating parameters for segment = (2, 2.0), size = 1253"
       ]
      },
      {
       "output_type": "stream",
       "stream": "stdout",
       "text": [
        "\n",
        "Specifying model in 0.015781\n",
        "Null Log-liklihood: -5770.278243"
       ]
      },
      {
       "output_type": "stream",
       "stream": "stdout",
       "text": [
        "\n",
        "Log-liklihood at convergence: -4416.202279\n",
        "Log-liklihood ratio: 0.234664\n",
        "Estimating parameters for segment = (2, 3.0), size = 1237"
       ]
      },
      {
       "output_type": "stream",
       "stream": "stdout",
       "text": [
        "\n",
        "Specifying model in 0.014834\n",
        "Null Log-liklihood: -5696.595520"
       ]
      },
      {
       "output_type": "stream",
       "stream": "stdout",
       "text": [
        "\n",
        "Log-liklihood at convergence: -4253.634149\n",
        "Log-liklihood ratio: 0.253302\n",
        "Finished executing in 3.426859 seconds\n",
        "Fetching annual_household_relocation_rates"
       ]
      },
      {
       "output_type": "stream",
       "stream": "stdout",
       "text": [
        "\n",
        "Fetching modify_table\n",
        "Histogram of relocation rates:"
       ]
      },
      {
       "output_type": "stream",
       "stream": "stdout",
       "text": [
        "\n",
        "0.01    82406\n",
        "0.01    44029\n",
        "0.02    42296\n",
        "0.02    34745\n",
        "0.03    33090\n",
        "0.02    31102\n",
        "0.00    23626\n",
        "0.01    22609\n",
        "0.00    18973\n",
        "0.00    18441\n",
        "dtype: int64\n",
        "5075 agents are moving\n",
        "Total new agents and movers = 26089\n",
        "Done merging land use and choosers in 0.103678"
       ]
      },
      {
       "output_type": "stream",
       "stream": "stdout",
       "text": [
        "\n",
        "Finished specifying model in 0.487736 seconds\n",
        "Specifying model in 0.028868"
       ]
      },
      {
       "output_type": "stream",
       "stream": "stdout",
       "text": [
        "\n",
        "Specifying model in 0.033444"
       ]
      },
      {
       "output_type": "stream",
       "stream": "stdout",
       "text": [
        "\n",
        "Specifying model in 0.034068"
       ]
      },
      {
       "output_type": "stream",
       "stream": "stdout",
       "text": [
        "\n",
        "Specifying model in 0.028333"
       ]
      },
      {
       "output_type": "stream",
       "stream": "stdout",
       "text": [
        "\n",
        "Specifying model in 0.029012"
       ]
      },
      {
       "output_type": "stream",
       "stream": "stdout",
       "text": [
        "\n",
        "Specifying model in 0.028362"
       ]
      },
      {
       "output_type": "stream",
       "stream": "stdout",
       "text": [
        "\n",
        "Specifying model in 0.028473"
       ]
      },
      {
       "output_type": "stream",
       "stream": "stdout",
       "text": [
        "\n",
        "Specifying model in 0.028697"
       ]
      },
      {
       "output_type": "stream",
       "stream": "stdout",
       "text": [
        "\n",
        "Finished creating pdf in 1.046969 seconds\n",
        "       segment(1, 0.0)  segment(1, 1.0)  segment(1, 2.0)  segment(1, 3.0)  segment(2, 0.0)  segment(2, 1.0)  segment(2, 2.0)  segment(2, 3.0)\n",
        "count         2.62e+05         2.62e+05         2.62e+05         2.62e+05         2.62e+05         2.62e+05         2.62e+05         2.62e+05\n",
        "mean          3.82e-06         3.82e-06         3.82e-06         3.82e-06         3.82e-06         3.82e-06         3.82e-06         3.82e-06\n",
        "std           1.75e-05         1.44e-05         1.74e-05         4.50e-06         4.09e-06         1.72e-05         1.43e-05         5.25e-06\n",
        "min           5.99e-07         6.18e-14         6.48e-11         1.67e-08         9.62e-07         6.96e-13         2.38e-08         9.65e-08\n",
        "25%           2.50e-06         2.66e-06         3.23e-06         2.44e-06         2.55e-06         2.69e-06         3.30e-06         2.34e-06\n",
        "50%           3.44e-06         3.29e-06         3.51e-06         3.57e-06         3.52e-06         3.28e-06         3.60e-06         3.50e-06\n",
        "75%           4.27e-06         4.07e-06         3.86e-06         4.82e-06         4.42e-06         4.01e-06         4.03e-06         4.77e-06\n",
        "max           2.63e-03         1.37e-03         1.82e-03         5.24e-04         6.38e-04         1.73e-03         1.61e-03         6.30e-04"
       ]
      },
      {
       "output_type": "stream",
       "stream": "stdout",
       "text": [
        "\n",
        "Finished assigning agents in 0.000008 seconds\n",
        "SIMULATED household location unconstrained model in 1.772 seconds\n"
       ]
      }
     ],
     "prompt_number": 15
    },
    {
     "cell_type": "heading",
     "level": 3,
     "metadata": {},
     "source": [
      "Modeled Variables"
     ]
    },
    {
     "cell_type": "code",
     "collapsed": false,
     "input": [
      "misc.writenumpy(dset.buildings.join(dset.load_attr('residential_sales_price',2010)).groupby('parcel_id')[2010].sum(),\"residential_sales_price\")"
     ],
     "language": "python",
     "metadata": {},
     "outputs": [],
     "prompt_number": 16
    },
    {
     "cell_type": "code",
     "collapsed": false,
     "input": [
      "misc.writenumpy(dset.buildings[dset.buildings.building_type_id == 2].join(dset.load_attr('residential_sales_price',2010)).groupby('parcel_id')[2010].sum(),\"mf_sales_price\")"
     ],
     "language": "python",
     "metadata": {},
     "outputs": [],
     "prompt_number": 17
    },
    {
     "cell_type": "code",
     "collapsed": false,
     "input": [
      "for i in range(4): misc.writenumpy(dset.buildings.join(dset.household_location_pdf).groupby('parcel_id')['segment(1, %d.0)'%i].mean(),'income%d'%i)"
     ],
     "language": "python",
     "metadata": {},
     "outputs": [],
     "prompt_number": 19
    },
    {
     "cell_type": "code",
     "collapsed": false,
     "input": [],
     "language": "python",
     "metadata": {},
     "outputs": []
    }
   ],
   "metadata": {}
  }
 ]
}