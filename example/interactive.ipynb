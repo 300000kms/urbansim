{
 "metadata": {
  "name": "interactive"
 },
 "nbformat": 3,
 "nbformat_minor": 0,
 "worksheets": [
  {
   "cells": [
    {
     "cell_type": "heading",
     "level": 1,
     "metadata": {},
     "source": [
      "Python Notebook for Running UrbanSim Models"
     ]
    },
    {
     "cell_type": "heading",
     "level": 3,
     "metadata": {},
     "source": [
      "Initialize"
     ]
    },
    {
     "cell_type": "code",
     "collapsed": false,
     "input": [
      "execfile(\"/Users/ffoti/urbansim/scripts/init.py\")\n",
      "import dataset\n",
      "dset = dataset.MRCOGDataset(os.path.join(misc.data_dir(),'mrcog2.h5'))\n",
      "db = couchdb.Server(\"http://paris.urbansim.org:5984/\")['mrcog']"
     ],
     "language": "python",
     "metadata": {},
     "outputs": [],
     "prompt_number": 15
    },
    {
     "cell_type": "heading",
     "level": 3,
     "metadata": {},
     "source": [
      "Function to Save Indicators"
     ]
    },
    {
     "cell_type": "code",
     "collapsed": false,
     "input": [
      "def show(attr,debug=0,name=None):\n",
      "  if debug: print attr.describe()\n",
      "  attr = attr.dropna()\n",
      "  attr.sort()\n",
      "  np.savez('/Users/ffoti/dev_new/stage/' + ('tmp' if not name else name),parcel_id=attr.index.values.astype('int32'),values=attr.values.astype('float32'))"
     ],
     "language": "python",
     "metadata": {},
     "outputs": [],
     "prompt_number": 16
    },
    {
     "cell_type": "heading",
     "level": 3,
     "metadata": {},
     "source": [
      "Estimate and Simulate Models"
     ]
    },
    {
     "cell_type": "code",
     "collapsed": false,
     "input": [
      "for name in ['buildings','households','jobs','zones','residential hedonic','zones2','household location unconstrained']: \n",
      "    run_model(db[name],dset,show=0)\n",
      "for name in ['household location unconstrained']:\n",
      "    run_model(db[name],dset,estimate=0,show=0)"
     ],
     "language": "python",
     "metadata": {},
     "outputs": [
      {
       "output_type": "stream",
       "stream": "stdout",
       "text": [
        "Fetching buildings\n",
        "Fetching parcels"
       ]
      },
      {
       "output_type": "stream",
       "stream": "stdout",
       "text": [
        "\n",
        "Fetching modify_table"
       ]
      },
      {
       "output_type": "stream",
       "stream": "stdout",
       "text": [
        "\n",
        "Fetching jobs"
       ]
      },
      {
       "output_type": "stream",
       "stream": "stdout",
       "text": [
        "\n",
        "Fetching modify_table\n",
        "Fetching modify_table"
       ]
      },
      {
       "output_type": "stream",
       "stream": "stdout",
       "text": [
        "\n",
        "Specifying model in 0.096379"
       ]
      },
      {
       "output_type": "stream",
       "stream": "stdout",
       "text": [
        "\n",
        "Finished executing in 0.096780 seconds\n",
        "Fetching households\n",
        "Fetching modify_table"
       ]
      },
      {
       "output_type": "stream",
       "stream": "stdout",
       "text": [
        "\n",
        "Specifying model in 0.107247"
       ]
      },
      {
       "output_type": "stream",
       "stream": "stdout",
       "text": [
        "\n",
        "Finished executing in 0.110481 seconds\n",
        "Specifying model in 0.056052"
       ]
      },
      {
       "output_type": "stream",
       "stream": "stdout",
       "text": [
        "\n",
        "Finished executing in 0.056455 seconds\n",
        "Fetching zones\n",
        "Fetching modify_table\n",
        "Fetching travel_data"
       ]
      },
      {
       "output_type": "stream",
       "stream": "stdout",
       "text": [
        "\n",
        "Fetching modify_table\n",
        "Specifying model in 0.576694"
       ]
      },
      {
       "output_type": "stream",
       "stream": "stdout",
       "text": [
        "\n",
        "Finished executing in 0.577106 seconds\n",
        "Done merging land use and choosers in 0.082245"
       ]
      },
      {
       "output_type": "stream",
       "stream": "stdout",
       "text": [
        "\n",
        "Finished specifying in 0.161951 seconds\n",
        "Specifying model in 0.119425"
       ]
      },
      {
       "output_type": "stream",
       "stream": "stdout",
       "text": [
        "\n",
        "Estimating hedonic for 1 with 233067 observations\n",
        "Specifying model in 0.002902"
       ]
      },
      {
       "output_type": "stream",
       "stream": "stdout",
       "text": [
        "\n",
        "Estimating hedonic for 2 with 5107 observations\n",
        "Finished executing in 0.393503 seconds\n",
        "Done merging land use and choosers in 0.095828"
       ]
      },
      {
       "output_type": "stream",
       "stream": "stdout",
       "text": [
        "\n",
        "Finished specifying in 0.121475 seconds\n",
        "Specifying model in 0.124863"
       ]
      },
      {
       "output_type": "stream",
       "stream": "stdout",
       "text": [
        "\n",
        "Generating rents on 255639 buildings\n",
        "Specifying model in 0.003058\n",
        "Generating rents on 5397 buildings\n",
        "Finished executing in 0.263452 seconds"
       ]
      },
      {
       "output_type": "stream",
       "stream": "stdout",
       "text": [
        "\n",
        "SIMULATED residential hedonic model in 0.408 seconds\n",
        "Specifying model in 0.021849"
       ]
      },
      {
       "output_type": "stream",
       "stream": "stdout",
       "text": [
        "\n",
        "Finished executing in 0.022222 seconds\n",
        "Done merging land use and choosers in 0.106098"
       ]
      },
      {
       "output_type": "stream",
       "stream": "stdout",
       "text": [
        "\n",
        "Estimating parameters for segment = (1, 0.0), size = 1312"
       ]
      },
      {
       "output_type": "stream",
       "stream": "stdout",
       "text": [
        "\n",
        "Specifying model in 0.021575\n",
        "Null Log-liklihood: -6041.983284"
       ]
      },
      {
       "output_type": "stream",
       "stream": "stdout",
       "text": [
        "\n",
        "Log-liklihood at convergence: -4550.212416\n",
        "Log-liklihood ratio: 0.246901\n",
        "Estimating parameters for segment = (1, 1.0), size = 1245"
       ]
      },
      {
       "output_type": "stream",
       "stream": "stdout",
       "text": [
        "\n",
        "Specifying model in 0.027022\n",
        "Null Log-liklihood: -5733.436882"
       ]
      },
      {
       "output_type": "stream",
       "stream": "stdout",
       "text": [
        "\n",
        "Log-liklihood at convergence: -4375.577213\n",
        "Log-liklihood ratio: 0.236832\n",
        "Estimating parameters for segment = (1, 2.0), size = 1253"
       ]
      },
      {
       "output_type": "stream",
       "stream": "stdout",
       "text": [
        "\n",
        "Specifying model in 0.013660\n",
        "Null Log-liklihood: -5770.278243"
       ]
      },
      {
       "output_type": "stream",
       "stream": "stdout",
       "text": [
        "\n",
        "Log-liklihood at convergence: -4356.893038\n",
        "Log-liklihood ratio: 0.244942\n",
        "Estimating parameters for segment = (1, 3.0), size = 1222"
       ]
      },
      {
       "output_type": "stream",
       "stream": "stdout",
       "text": [
        "\n",
        "Specifying model in 0.013017\n",
        "Null Log-liklihood: -5627.517967"
       ]
      },
      {
       "output_type": "stream",
       "stream": "stdout",
       "text": [
        "\n",
        "Log-liklihood at convergence: -4161.384198\n",
        "Log-liklihood ratio: 0.260529\n",
        "Estimating parameters for segment = (2, 0.0), size = 1189"
       ]
      },
      {
       "output_type": "stream",
       "stream": "stdout",
       "text": [
        "\n",
        "Specifying model in 0.014089\n",
        "Null Log-liklihood: -5475.547351"
       ]
      },
      {
       "output_type": "stream",
       "stream": "stdout",
       "text": [
        "\n",
        "Log-liklihood at convergence: -4143.425846\n",
        "Log-liklihood ratio: 0.243286\n",
        "Estimating parameters for segment = (2, 1.0), size = 1254"
       ]
      },
      {
       "output_type": "stream",
       "stream": "stdout",
       "text": [
        "\n",
        "Specifying model in 0.014530\n",
        "Null Log-liklihood: -5774.883413"
       ]
      },
      {
       "output_type": "stream",
       "stream": "stdout",
       "text": [
        "\n",
        "Log-liklihood at convergence: -4414.118542\n",
        "Log-liklihood ratio: 0.235635\n",
        "Estimating parameters for segment = (2, 2.0), size = 1255"
       ]
      },
      {
       "output_type": "stream",
       "stream": "stdout",
       "text": [
        "\n",
        "Specifying model in 0.025161\n",
        "Null Log-liklihood: -5779.488583"
       ]
      },
      {
       "output_type": "stream",
       "stream": "stdout",
       "text": [
        "\n",
        "Log-liklihood at convergence: -4482.369431\n",
        "Log-liklihood ratio: 0.224435\n",
        "Estimating parameters for segment = (2, 3.0), size = 1270"
       ]
      },
      {
       "output_type": "stream",
       "stream": "stdout",
       "text": [
        "\n",
        "Specifying model in 0.023194\n",
        "Null Log-liklihood: -5848.566136"
       ]
      },
      {
       "output_type": "stream",
       "stream": "stdout",
       "text": [
        "\n",
        "Log-liklihood at convergence: -4387.199847\n",
        "Log-liklihood ratio: 0.249867\n",
        "Finished executing in 3.661568 seconds\n",
        "Fetching annual_household_relocation_rates\n",
        "Fetching modify_table\n",
        "Histogram of relocation rates:"
       ]
      },
      {
       "output_type": "stream",
       "stream": "stdout",
       "text": [
        "\n",
        "0.01    82406\n",
        "0.01    44029\n",
        "0.02    42296\n",
        "0.02    34745\n",
        "0.03    33090\n",
        "0.02    31102\n",
        "0.00    23626\n",
        "0.01    22609\n",
        "0.00    18973\n",
        "0.00    18441\n",
        "dtype: int64\n",
        "5045 agents are moving\n",
        "Total new agents and movers = 26088\n",
        "Done merging land use and choosers in 0.114193"
       ]
      },
      {
       "output_type": "stream",
       "stream": "stdout",
       "text": [
        "\n",
        "Finished specifying model in 0.485851 seconds\n",
        "Specifying model in 0.034778"
       ]
      },
      {
       "output_type": "stream",
       "stream": "stdout",
       "text": [
        "\n",
        "Specifying model in 0.028104"
       ]
      },
      {
       "output_type": "stream",
       "stream": "stdout",
       "text": [
        "\n",
        "Specifying model in 0.028079"
       ]
      },
      {
       "output_type": "stream",
       "stream": "stdout",
       "text": [
        "\n",
        "Specifying model in 0.028320"
       ]
      },
      {
       "output_type": "stream",
       "stream": "stdout",
       "text": [
        "\n",
        "Specifying model in 0.028869"
       ]
      },
      {
       "output_type": "stream",
       "stream": "stdout",
       "text": [
        "\n",
        "Specifying model in 0.034288"
       ]
      },
      {
       "output_type": "stream",
       "stream": "stdout",
       "text": [
        "\n",
        "Specifying model in 0.035101"
       ]
      },
      {
       "output_type": "stream",
       "stream": "stdout",
       "text": [
        "\n",
        "Specifying model in 0.036806"
       ]
      },
      {
       "output_type": "stream",
       "stream": "stdout",
       "text": [
        "\n",
        "Finished creating pdf in 1.119689 seconds\n",
        "       segment(1, 0.0)  segment(1, 1.0)  segment(1, 2.0)  segment(1, 3.0)  segment(2, 0.0)  segment(2, 1.0)  segment(2, 2.0)  segment(2, 3.0)\n",
        "count         2.62e+05         2.62e+05         2.62e+05         2.62e+05         2.62e+05         2.62e+05         2.62e+05         2.62e+05\n",
        "mean          3.82e-06         3.82e-06         3.82e-06         3.82e-06         3.82e-06         3.82e-06         3.82e-06         3.82e-06\n",
        "std           9.85e-06         1.08e-05         3.42e-06         5.50e-06         2.94e-04         1.82e-05         2.97e-06         4.13e-06\n",
        "min           9.48e-08         5.82e-08         1.75e-07         1.03e-07         1.46e-08         5.79e-08         3.04e-07         1.59e-07\n",
        "25%           2.46e-06         2.39e-06         3.10e-06         2.40e-06         3.07e-07         2.20e-06         3.22e-06         2.41e-06\n",
        "50%           3.36e-06         3.27e-06         3.61e-06         3.52e-06         3.98e-07         3.09e-06         3.60e-06         3.56e-06\n",
        "75%           4.47e-06         4.34e-06         4.19e-06         4.92e-06         5.29e-07         4.29e-06         4.13e-06         4.91e-06\n",
        "max           1.49e-03         1.27e-03         4.36e-04         7.14e-04         3.69e-02         2.02e-03         3.50e-04         5.18e-04"
       ]
      },
      {
       "output_type": "stream",
       "stream": "stdout",
       "text": [
        "\n",
        "Finished assigning agents in 0.000014 seconds\n",
        "SIMULATED household location unconstrained model in 1.891 seconds\n"
       ]
      }
     ],
     "prompt_number": 17
    },
    {
     "cell_type": "heading",
     "level": 3,
     "metadata": {},
     "source": [
      "Parcel Variables"
     ]
    },
    {
     "cell_type": "code",
     "collapsed": false,
     "input": [
      "show(dset.parcels.parcel_acres)"
     ],
     "language": "python",
     "metadata": {},
     "outputs": [],
     "prompt_number": 21
    },
    {
     "cell_type": "code",
     "collapsed": false,
     "input": [
      "show(dset.parcels.land_value/dset.parcels.parcel_acres)"
     ],
     "language": "python",
     "metadata": {},
     "outputs": [],
     "prompt_number": 22
    },
    {
     "cell_type": "code",
     "collapsed": false,
     "input": [
      "show(dset.buildings.groupby('parcel_id').unit_price_residential.mean())"
     ],
     "language": "python",
     "metadata": {},
     "outputs": [],
     "prompt_number": 20
    },
    {
     "cell_type": "heading",
     "level": 3,
     "metadata": {},
     "source": [
      "Zone Variables"
     ]
    },
    {
     "cell_type": "code",
     "collapsed": false,
     "input": [
      "show(pd.Series(dset.zones.average_income.ix[dset.parcels.zone_id].values,dset.parcels.index))"
     ],
     "language": "python",
     "metadata": {},
     "outputs": [],
     "prompt_number": 11
    },
    {
     "cell_type": "code",
     "collapsed": false,
     "input": [
      "show(pd.Series(dset.zones.population.ix[dset.parcels.zone_id].values,dset.parcels.index))"
     ],
     "language": "python",
     "metadata": {},
     "outputs": []
    },
    {
     "cell_type": "heading",
     "level": 3,
     "metadata": {},
     "source": [
      "Modeled Variables"
     ]
    },
    {
     "cell_type": "code",
     "collapsed": false,
     "input": [
      "show(dset.buildings.join(dset.load_attr('residential_sales_price',2010)).groupby('parcel_id')[2010].sum())"
     ],
     "language": "python",
     "metadata": {},
     "outputs": [],
     "prompt_number": 23
    },
    {
     "cell_type": "code",
     "collapsed": false,
     "input": [
      "show(dset.buildings[dset.buildings.building_type_id == 2].join(dset.load_attr('residential_sales_price',2010)).groupby('parcel_id')[2010].sum())"
     ],
     "language": "python",
     "metadata": {},
     "outputs": [],
     "prompt_number": 9
    },
    {
     "cell_type": "code",
     "collapsed": false,
     "input": [
      "for i in range(4): show(dset.buildings.join(dset.household_location_pdf).groupby('parcel_id')['segment(1, %d.0)'%i].mean(),name=('income%d'%i))"
     ],
     "language": "python",
     "metadata": {},
     "outputs": [],
     "prompt_number": 10
    },
    {
     "cell_type": "code",
     "collapsed": false,
     "input": [],
     "language": "python",
     "metadata": {},
     "outputs": []
    }
   ],
   "metadata": {}
  }
 ]
}