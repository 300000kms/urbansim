{
 "metadata": {
  "name": "interactive"
 },
 "nbformat": 3,
 "nbformat_minor": 0,
 "worksheets": [
  {
   "cells": [
    {
     "cell_type": "code",
     "collapsed": false,
     "input": [
      "execfile(\"/Users/ffoti/urbansim/scripts/init.py\")\n",
      "import dataset\n",
      "\n",
      "parcelcentroids = pd.read_csv(os.path.join(misc.data_dir(),'mrcog_parcel_centroids.csv'),index_col='parcel_id')\n",
      "dset = dataset.MRCOGDataset(os.path.join(misc.data_dir(),'mrcog2.h5'))\n",
      "\n",
      "couch = couchdb.Server(\"http://paris.urbansim.org:5984/\")\n",
      "db = couch['mrcog']"
     ],
     "language": "python",
     "metadata": {},
     "outputs": [],
     "prompt_number": 33
    },
    {
     "cell_type": "code",
     "collapsed": false,
     "input": [
      "print json.dumps(db['variable library'],indent=4)"
     ],
     "language": "python",
     "metadata": {},
     "outputs": [
      {
       "output_type": "stream",
       "stream": "stdout",
       "text": [
        "{\n",
        "    \"ln_population_in_range\": \"_tbl_.population_in_range.apply(np.log1p)\", \n",
        "    \"income X average_income\": \"(_tbl_.income*_tbl_.average_income).apply(np.log1p)\", \n",
        "    \"_rev\": \"1-5a61a278a9a064c58d921b65c7c7ac62\", \n",
        "    \"ln_sqft_per_unit\": \"_tbl_.sqft_per_unit.apply(np.log1p)\", \n",
        "    \"historic\": \"_tbl_.year_built < 1950\", \n",
        "    \"ln_average_income\": \"_tbl_.average_income.apply(np.log1p)\", \n",
        "    \"income_quantile\": \"pd.qcut(_tbl_.income,4).labels\", \n",
        "    \"new\": \"_tbl_.year_built > 1990\", \n",
        "    \"_id\": \"variable library\", \n",
        "    \"ln_parcel_acres\": \"_tbl_.parcel_acres.apply(np.log1p)\", \n",
        "    \"ln_time_to_downtown\": \"_tbl_.time_to_downtown.apply(np.log1p)\"\n",
        "}\n"
       ]
      }
     ],
     "prompt_number": 34
    },
    {
     "cell_type": "code",
     "collapsed": false,
     "input": [
      "for name in [db['buildings'],db['households'],db['jobs'],db['zones'],db['residential hedonic'],db['zones2'],db['household location']]: run_model(name,dset,show=0)"
     ],
     "language": "python",
     "metadata": {},
     "outputs": [
      {
       "output_type": "stream",
       "stream": "stdout",
       "text": [
        "Specifying model in 0.077205\n",
        "Finished executing in 0.077253 seconds\n",
        "Specifying model in 0.076354"
       ]
      },
      {
       "output_type": "stream",
       "stream": "stdout",
       "text": [
        "\n",
        "Finished executing in 0.076751 seconds\n",
        "Specifying model in 0.066018"
       ]
      },
      {
       "output_type": "stream",
       "stream": "stdout",
       "text": [
        "\n",
        "Finished executing in 0.068294 seconds\n",
        "Specifying model in 0.560507"
       ]
      },
      {
       "output_type": "stream",
       "stream": "stdout",
       "text": [
        "\n",
        "Finished executing in 0.560893 seconds\n",
        "Done merging land use and choosers in 0.089419"
       ]
      },
      {
       "output_type": "stream",
       "stream": "stdout",
       "text": [
        "\n",
        "Finished specifying in 0.165445 seconds\n",
        "Specifying model in 0.127269"
       ]
      },
      {
       "output_type": "stream",
       "stream": "stdout",
       "text": [
        "\n",
        "Estimating hedonic for 1 with 233067 observations\n",
        "Specifying model in 0.002291"
       ]
      },
      {
       "output_type": "stream",
       "stream": "stdout",
       "text": [
        "\n",
        "Estimating hedonic for 2 with 5107 observations\n",
        "Finished executing in 0.379353 seconds\n",
        "Done merging land use and choosers in 0.097572"
       ]
      },
      {
       "output_type": "stream",
       "stream": "stdout",
       "text": [
        "\n",
        "Finished specifying in 0.119094 seconds\n",
        "Specifying model in 0.137402"
       ]
      },
      {
       "output_type": "stream",
       "stream": "stdout",
       "text": [
        "\n",
        "Generating rents on 255639 buildings\n",
        "Specifying model in 0.002821\n",
        "Generating rents on 5397 buildings\n",
        "Finished executing in 0.274536 seconds"
       ]
      },
      {
       "output_type": "stream",
       "stream": "stdout",
       "text": [
        "\n",
        "SIMULATED residential hedonic model in 0.418 seconds\n",
        "Specifying model in 0.010375\n",
        "Finished executing in 0.010439 seconds\n",
        "Done merging land use and choosers in 0.098264"
       ]
      },
      {
       "output_type": "stream",
       "stream": "stdout",
       "text": [
        "\n",
        "Estimating parameters for segment = (1, 0.0), size = 1305"
       ]
      },
      {
       "output_type": "stream",
       "stream": "stdout",
       "text": [
        "\n",
        "Specifying model in 0.021332\n",
        "Null Log-liklihood: -6009.747093"
       ]
      },
      {
       "output_type": "stream",
       "stream": "stdout",
       "text": [
        "\n",
        "Log-liklihood at convergence: -4562.115804\n",
        "Log-liklihood ratio: 0.240881\n",
        "Estimating parameters for segment = (1, 1.0), size = 1253"
       ]
      },
      {
       "output_type": "stream",
       "stream": "stdout",
       "text": [
        "\n",
        "Specifying model in 0.019397\n",
        "Null Log-liklihood: -5770.278243"
       ]
      },
      {
       "output_type": "stream",
       "stream": "stdout",
       "text": [
        "\n",
        "Log-liklihood at convergence: -4313.337715\n",
        "Log-liklihood ratio: 0.252491\n",
        "Estimating parameters for segment = (1, 2.0), size = 1217"
       ]
      },
      {
       "output_type": "stream",
       "stream": "stdout",
       "text": [
        "\n",
        "Specifying model in 0.019487\n",
        "Null Log-liklihood: -5604.492116"
       ]
      },
      {
       "output_type": "stream",
       "stream": "stdout",
       "text": [
        "\n",
        "Log-liklihood at convergence: -4276.435383\n",
        "Log-liklihood ratio: 0.236963\n",
        "Estimating parameters for segment = (1, 3.0), size = 1240"
       ]
      },
      {
       "output_type": "stream",
       "stream": "stdout",
       "text": [
        "\n",
        "Specifying model in 0.021035\n",
        "Null Log-liklihood: -5710.411031"
       ]
      },
      {
       "output_type": "stream",
       "stream": "stdout",
       "text": [
        "\n",
        "Log-liklihood at convergence: -4311.443627\n",
        "Log-liklihood ratio: 0.244985\n",
        "Estimating parameters for segment = (2, 0.0), size = 1284"
       ]
      },
      {
       "output_type": "stream",
       "stream": "stdout",
       "text": [
        "\n",
        "Specifying model in 0.022321\n",
        "Null Log-liklihood: -5913.038519"
       ]
      },
      {
       "output_type": "stream",
       "stream": "stdout",
       "text": [
        "\n",
        "Log-liklihood at convergence: -4552.939160\n",
        "Log-liklihood ratio: 0.230017\n",
        "Estimating parameters for segment = (2, 1.0), size = 1159"
       ]
      },
      {
       "output_type": "stream",
       "stream": "stdout",
       "text": [
        "\n",
        "Specifying model in 0.014385\n",
        "Null Log-liklihood: -5337.392246"
       ]
      },
      {
       "output_type": "stream",
       "stream": "stdout",
       "text": [
        "\n",
        "Log-liklihood at convergence: -4093.320528\n",
        "Log-liklihood ratio: 0.233086\n",
        "Estimating parameters for segment = (2, 2.0), size = 1282"
       ]
      },
      {
       "output_type": "stream",
       "stream": "stdout",
       "text": [
        "\n",
        "Specifying model in 0.018497\n",
        "Null Log-liklihood: -5903.828178"
       ]
      },
      {
       "output_type": "stream",
       "stream": "stdout",
       "text": [
        "\n",
        "Log-liklihood at convergence: -4390.599735\n",
        "Log-liklihood ratio: 0.256313\n",
        "Estimating parameters for segment = (2, 3.0), size = 1260"
       ]
      },
      {
       "output_type": "stream",
       "stream": "stdout",
       "text": [
        "\n",
        "Specifying model in 0.019482\n",
        "Null Log-liklihood: -5802.514434"
       ]
      },
      {
       "output_type": "stream",
       "stream": "stdout",
       "text": [
        "\n",
        "Log-liklihood at convergence: -4373.688640\n",
        "Log-liklihood ratio: 0.246243\n",
        "Finished executing in 3.501465 seconds\n"
       ]
      }
     ],
     "prompt_number": 25
    },
    {
     "cell_type": "code",
     "collapsed": false,
     "input": [
      "#attr = dset.buildings.groupby('parcel_id').land_value.sum()\n",
      "#attr = dset.buildings.groupby('parcel_id').residential_units.sum()\n",
      "#attr = dset.buildings.groupby('parcel_id').non_residential_sqft.sum()\n",
      "#attr = dset.buildings.groupby('parcel_id').parcel_acres.mean()\n",
      "#attr = dset.parcels.parcel_acres\n",
      "#attr = dset.parcels.zone_id\n",
      "\n",
      "#attr = buildings.groupby('zone_id').land_value.quantile(.5)\n",
      "\n",
      "attr = dset.buildings.join(dset.load_attr('residential_sales_price',2010)).groupby('parcel_id')[2010].sum()\n",
      "\n",
      "print attr.describe()\n",
      " \n",
      "urbansimd.TABLEDICT = {'interactive':pd.DataFrame({'tmp':attr.astype('float')})}\n",
      "urbansimd.start_service(parcelcentroids,urbansimd.TABLEDICT ,8765,srid=3857,sqlite=0,debug=0,thread=1)"
     ],
     "language": "python",
     "metadata": {},
     "outputs": [
      {
       "output_type": "stream",
       "stream": "stdout",
       "text": [
        "count     261036.00\n",
        "mean      108162.06\n",
        "std        38583.09\n",
        "min        15107.42\n",
        "25%        90326.31\n",
        "50%       101396.80\n",
        "75%       129490.31\n",
        "max      4377834.00\n",
        "dtype: float64\n"
       ]
      }
     ],
     "prompt_number": 22
    },
    {
     "cell_type": "code",
     "collapsed": false,
     "input": [
      "\n"
     ],
     "language": "python",
     "metadata": {},
     "outputs": []
    }
   ],
   "metadata": {}
  }
 ]
}