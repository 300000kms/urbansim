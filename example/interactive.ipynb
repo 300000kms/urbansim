{
 "metadata": {
  "name": "interactive"
 },
 "nbformat": 3,
 "nbformat_minor": 0,
 "worksheets": [
  {
   "cells": [
    {
     "cell_type": "code",
     "collapsed": false,
     "input": [
      "execfile(\"/Users/ffoti/urbansim/scripts/init.py\")\n",
      "import dataset\n",
      "\n",
      "parcelcentroids = pd.read_csv(os.path.join(misc.data_dir(),'mrcog_parcel_centroids.csv'),index_col='parcel_id')\n",
      "dset = dataset.MRCOGDataset(os.path.join(misc.data_dir(),'mrcog.h5'))\n",
      "\n",
      "couch = couchdb.Server()\n",
      "db = couch['models']"
     ],
     "language": "python",
     "metadata": {},
     "outputs": [],
     "prompt_number": 15
    },
    {
     "cell_type": "code",
     "collapsed": false,
     "input": [
      "for name in [db['buildings'],db['households'],db['jobs'],db['zones'],db['residential sales hedonic']]: run_model(name,dset,show=0)"
     ],
     "language": "python",
     "metadata": {},
     "outputs": [
      {
       "output_type": "stream",
       "stream": "stdout",
       "text": [
        "Fetching buildings\n",
        "Fetching parcels"
       ]
      },
      {
       "output_type": "stream",
       "stream": "stdout",
       "text": [
        "\n",
        "Fetching modify_table\n",
        "Fetching jobs"
       ]
      },
      {
       "output_type": "stream",
       "stream": "stdout",
       "text": [
        "\n",
        "Fetching modify_table\n",
        "Fetching modify_table"
       ]
      },
      {
       "output_type": "stream",
       "stream": "stdout",
       "text": [
        "\n",
        "Specifying model in 0.101956"
       ]
      },
      {
       "output_type": "stream",
       "stream": "stdout",
       "text": [
        "\n",
        "Finished executing in 0.102493 seconds\n",
        "Fetching households\n",
        "Fetching modify_table\n",
        "Specifying model in 0.179459"
       ]
      },
      {
       "output_type": "stream",
       "stream": "stdout",
       "text": [
        "\n",
        "Finished executing in 0.183434 seconds\n",
        "Specifying model in 0.045022\n",
        "Finished executing in 0.046215 seconds\n",
        "Fetching zones"
       ]
      },
      {
       "output_type": "stream",
       "stream": "stdout",
       "text": [
        "\n",
        "Fetching modify_table\n",
        "Fetching travel_data\n",
        "Fetching modify_table\n",
        "Specifying model in 0.547866"
       ]
      },
      {
       "output_type": "stream",
       "stream": "stdout",
       "text": [
        "\n",
        "Finished executing in 0.548241 seconds\n",
        "Done merging land use and choosers in 0.095968"
       ]
      },
      {
       "output_type": "stream",
       "stream": "stdout",
       "text": [
        "\n",
        "Finished specifying in 0.185073 seconds\n",
        "Specifying model in 0.154063"
       ]
      },
      {
       "output_type": "stream",
       "stream": "stdout",
       "text": [
        "\n",
        "Estimating hedonic for 1 with 297376 observations\n",
        "Specifying model in 0.002094"
       ]
      },
      {
       "output_type": "stream",
       "stream": "stdout",
       "text": [
        "\n",
        "Estimating hedonic for 2 with 4711 observations\n",
        "Finished executing in 0.467981 seconds\n",
        "Done merging land use and choosers in 0.105710"
       ]
      },
      {
       "output_type": "stream",
       "stream": "stdout",
       "text": [
        "\n",
        "Finished specifying in 0.135598 seconds\n",
        "Specifying model in 0.154213"
       ]
      },
      {
       "output_type": "stream",
       "stream": "stdout",
       "text": [
        "\n",
        "Generating rents on 304040 buildings\n",
        "Specifying model in 0.004747"
       ]
      },
      {
       "output_type": "stream",
       "stream": "stdout",
       "text": [
        "\n",
        "Generating rents on 5453 buildings\n",
        "Finished executing in 0.328320 seconds"
       ]
      },
      {
       "output_type": "stream",
       "stream": "stdout",
       "text": [
        "\n",
        "SIMULATED residential sales hedonic model in 0.495 seconds\n"
       ]
      }
     ],
     "prompt_number": 16
    },
    {
     "cell_type": "code",
     "collapsed": false,
     "input": [
      "#attr = buildings.groupby('parcel_id').land_value.sum()\n",
      "#attr = buildings.groupby('parcel_id').residential_units.sum()\n",
      "#attr = buildings.groupby('parcel_id').non_residential_sqft.sum()\n",
      "#attr = buildings.groupby('parcel_id').parcel_acres.mean()\n",
      "#attr = parcels.parcel_acres\n",
      "#attr = parcels.zone_id\n",
      "\n",
      "#attr = buildings.groupby('zone_id').land_value.quantile(.5)\n",
      "#attr.name = 'tmp'\n",
      "#fname = 'average_income'\n",
      "#attr = parcels.join(dset.fetch('zones')[fname],on='zone_id')[fname]\n",
      "\n",
      "attr = dset.buildings.join(dset.load_attr('residential_sales_price',2010)).groupby('parcel_id')[2010].sum()\n",
      "\n",
      "print attr.describe()\n",
      " \n",
      "urbansimd.TABLEDICT = {'interactive':pd.DataFrame({'tmp':attr.astype('float')})}\n",
      "urbansimd.start_service(parcelcentroids,urbansimd.TABLEDICT ,8765,srid=3857,sqlite=0,debug=0,thread=1)"
     ],
     "language": "python",
     "metadata": {},
     "outputs": [
      {
       "output_type": "stream",
       "stream": "stdout",
       "text": [
        "count    2.56e+05\n",
        "mean     2.52e+05\n",
        "std      2.14e+06\n",
        "min      1.57e+04\n",
        "25%      1.35e+05\n",
        "50%      1.88e+05\n",
        "75%      2.50e+05\n",
        "max      4.76e+08\n",
        "dtype: float64\n"
       ]
      }
     ],
     "prompt_number": 17
    },
    {
     "cell_type": "code",
     "collapsed": false,
     "input": [
      "\n"
     ],
     "language": "python",
     "metadata": {},
     "outputs": []
    }
   ],
   "metadata": {}
  }
 ]
}